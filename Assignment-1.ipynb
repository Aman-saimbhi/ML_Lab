{
 "cells": [
  {
   "cell_type": "markdown",
   "id": "3c42bcbc",
   "metadata": {},
   "source": [
    "Question no: 1"
   ]
  },
  {
   "cell_type": "code",
   "execution_count": 11,
   "id": "2aaadc6e",
   "metadata": {},
   "outputs": [
    {
     "name": "stdout",
     "output_type": "stream",
     "text": [
      "What is your name? Amanpreet Singh Saimbhi\n",
      "What is your age? 21\n",
      "How many copies do you want? 5\n",
      "*********************************************\n",
      "-> You will turn 100 in the year:  2100, Amanpreet Singh Saimbhi.\n",
      "-> You will turn 100 in the year:  2100, Amanpreet Singh Saimbhi.\n",
      "-> You will turn 100 in the year:  2100, Amanpreet Singh Saimbhi.\n",
      "-> You will turn 100 in the year:  2100, Amanpreet Singh Saimbhi.\n",
      "-> You will turn 100 in the year:  2100, Amanpreet Singh Saimbhi.\n"
     ]
    }
   ],
   "source": [
    "import datetime\n",
    "def year_turn_100():\n",
    "    name = input(\"What is your name? \")\n",
    "    age = int(input(\"What is your age? \"))\n",
    "    year = datetime.datetime.now().year + (100-age)\n",
    "    reps = int(input(\"How many copies do you want? \"))\n",
    "    print(\"*********************************************\")\n",
    "    for i in range(reps):\n",
    "        print(\"-> You will turn 100 in the year:  {}, {}.\".format(year,name))\n",
    "year_turn_100()"
   ]
  },
  {
   "cell_type": "markdown",
   "id": "2df9ac0e",
   "metadata": {},
   "source": [
    "Question no: 2"
   ]
  },
  {
   "cell_type": "code",
   "execution_count": 21,
   "id": "7b86b359",
   "metadata": {},
   "outputs": [
    {
     "name": "stdout",
     "output_type": "stream",
     "text": [
      "Required List: [1, 1, 2, 3]\n",
      "Required List in one line is: [1, 1, 2, 3]\n",
      "Enter the key: 21\n",
      "Modified List: [1, 1, 2, 3, 5, 8, 13]\n"
     ]
    }
   ],
   "source": [
    "def list_operations(l):\n",
    "    temp = []\n",
    "    for element in l:\n",
    "        if(element < 5): temp.append(element)\n",
    "    print(\"Required List:\", temp)\n",
    "\n",
    "    temp.clear()\n",
    "    #To append in one line\n",
    "    temp= [element for element in l if element<5]\n",
    "    print(\"Required List in one line is:\", temp)\n",
    "    \n",
    "    temp.clear()\n",
    "    #Elements smaller than a key element\n",
    "    key = int(input(\"Enter the key: \"))\n",
    "    temp = [element for element in l if element<key]\n",
    "    print(\"Modified List:\", temp)\n",
    "    \n",
    "list_operations([1, 1, 2, 3, 5, 8, 13, 21, 34, 55, 89])"
   ]
  },
  {
   "cell_type": "markdown",
   "id": "1e0bf0ca",
   "metadata": {},
   "source": [
    "Question No: 3"
   ]
  },
  {
   "cell_type": "code",
   "execution_count": 24,
   "id": "02ad6f54",
   "metadata": {},
   "outputs": [
    {
     "name": "stdout",
     "output_type": "stream",
     "text": [
      "Enter the number till which you want the sequence: 10\n",
      "Required sequence:\n",
      "0 1 1 2 3 5 8 13 21 34 "
     ]
    }
   ],
   "source": [
    "def fibo_till_n(n):\n",
    "    if n <= 1:\n",
    "        return n\n",
    "    else:\n",
    "        return(fibo_till_n(n-1) + fibo_till_n(n-2))\n",
    "\n",
    "n = int(input(\"Enter the number till which you want the sequence: \"))\n",
    "print(\"Required sequence:\")\n",
    "for x in range(n):\n",
    "    print(fibo_till_n(x), end=\" \")"
   ]
  },
  {
   "cell_type": "markdown",
   "id": "3a1023df",
   "metadata": {},
   "source": [
    "Question No: 4"
   ]
  },
  {
   "cell_type": "code",
   "execution_count": 41,
   "id": "8b2ecda9",
   "metadata": {},
   "outputs": [],
   "source": [
    "def distinct_elements(l):\n",
    "    distinct = []\n",
    "    for element in l:\n",
    "        if element in distinct:\n",
    "            continue\n",
    "        distinct.append(element)\n",
    "    return distinct\n",
    "\n",
    "def distinct_using_set(l):\n",
    "    set_from_list = set(l)\n",
    "    distinct = list(set_from_list)\n",
    "    return distinct"
   ]
  },
  {
   "cell_type": "code",
   "execution_count": 42,
   "id": "086b065b",
   "metadata": {},
   "outputs": [
    {
     "name": "stdout",
     "output_type": "stream",
     "text": [
      "Using list:\n"
     ]
    },
    {
     "data": {
      "text/plain": [
       "[0, 2, 3, 4, 6, 7]"
      ]
     },
     "execution_count": 42,
     "metadata": {},
     "output_type": "execute_result"
    }
   ],
   "source": [
    "print(\"Using list:\")\n",
    "distinct_elements([0,2,3,4,3,4,6,7])"
   ]
  },
  {
   "cell_type": "code",
   "execution_count": 43,
   "id": "1fae2240",
   "metadata": {},
   "outputs": [
    {
     "name": "stdout",
     "output_type": "stream",
     "text": [
      "Without using list:\n"
     ]
    },
    {
     "data": {
      "text/plain": [
       "[1, 2, 3, 4, 555, 444]"
      ]
     },
     "execution_count": 43,
     "metadata": {},
     "output_type": "execute_result"
    }
   ],
   "source": [
    "print(\"Without using list:\")\n",
    "distinct_using_set([1,1,2,3,4,555,3,444,3,3,4,2])"
   ]
  },
  {
   "cell_type": "markdown",
   "id": "b7eee436",
   "metadata": {},
   "source": [
    "Question No: 5"
   ]
  },
  {
   "cell_type": "code",
   "execution_count": 52,
   "id": "b446092b",
   "metadata": {},
   "outputs": [
    {
     "name": "stdout",
     "output_type": "stream",
     "text": [
      "Enter the number you want to check: 4\n",
      "Not a Prime Number!\n",
      "***********************************************\n",
      "Press 1 to check again: 1\n",
      "Enter the number you want to check: 7\n",
      "Prime Number!\n",
      "***********************************************\n",
      "Press 1 to check again: 1\n",
      "Enter the number you want to check: 19\n",
      "Prime Number!\n",
      "***********************************************\n",
      "Press 1 to check again: 0\n"
     ]
    }
   ],
   "source": [
    "def prime_check():\n",
    "    while(1):\n",
    "        n = int(input(\"Enter the number you want to check: \"))\n",
    "        flag = 1\n",
    "        for numb in range(2, n):\n",
    "            if(n%numb==0):\n",
    "                flag = 0\n",
    "                break\n",
    "        if(flag==0):\n",
    "            print(\"Not a Prime Number!\")\n",
    "        else:\n",
    "            print(\"Prime Number!\")\n",
    "        print(\"***********************************************\")\n",
    "        x= int(input(\"Press 1 to check again: \"))\n",
    "        if(x!=1): break\n",
    "\n",
    "prime_check()"
   ]
  },
  {
   "cell_type": "code",
   "execution_count": null,
   "id": "8915b697",
   "metadata": {},
   "outputs": [],
   "source": []
  }
 ],
 "metadata": {
  "celltoolbar": "Raw Cell Format",
  "kernelspec": {
   "display_name": "Python 3",
   "language": "python",
   "name": "python3"
  },
  "language_info": {
   "codemirror_mode": {
    "name": "ipython",
    "version": 3
   },
   "file_extension": ".py",
   "mimetype": "text/x-python",
   "name": "python",
   "nbconvert_exporter": "python",
   "pygments_lexer": "ipython3",
   "version": "3.7.8"
  }
 },
 "nbformat": 4,
 "nbformat_minor": 5
}
